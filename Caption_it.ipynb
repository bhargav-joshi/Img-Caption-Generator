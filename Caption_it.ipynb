{
 "cells": [
  {
   "cell_type": "code",
   "execution_count": 9,
   "id": "a485994d",
   "metadata": {},
   "outputs": [],
   "source": [
    "import pandas as pd\n",
    "import numpy as np\n",
    "import matplotlib.pyplot as plt\n",
    "import keras\n",
    "import json\n",
    "import pickle\n",
    "from keras.applications.vgg16 import VGG16\n",
    "from keras.applications.resnet import ResNet50, preprocess_input, decode_predictions\n",
    "from keras.preprocessing import image\n",
    "from keras.models import Model, load_model\n",
    "from keras.preprocessing.sequence import pad_sequences\n",
    "from tensorflow.keras.utils import to_categorical\n",
    "from keras.layers import Input, Dense, Dropout, Embedding, LSTM\n",
    "from keras.layers.merge import add"
   ]
  },
  {
   "cell_type": "code",
   "execution_count": 10,
   "id": "3b640493",
   "metadata": {},
   "outputs": [],
   "source": [
    "model = load_model(\"model_weights/model_9.h5\")"
   ]
  },
  {
   "cell_type": "code",
   "execution_count": 11,
   "id": "a986aa77",
   "metadata": {},
   "outputs": [],
   "source": [
    "model_temp = ResNet50(weights=\"imagenet\", input_shape=(224,224,3))"
   ]
  },
  {
   "cell_type": "code",
   "execution_count": 12,
   "id": "e2f4ae6a",
   "metadata": {},
   "outputs": [],
   "source": [
    "model_resnet = Model(model_temp.input, model_temp.layers[-2].output)"
   ]
  },
  {
   "cell_type": "code",
   "execution_count": 13,
   "id": "0545735b",
   "metadata": {},
   "outputs": [],
   "source": [
    "def preprocess_image(img):\n",
    "  img = image.load_img(img, target_size=(224,224))\n",
    "  img = image.img_to_array(img)\n",
    "  img = np.expand_dims(img, axis=0)\n",
    "  img = preprocess_input(img)\n",
    "  return img"
   ]
  },
  {
   "cell_type": "code",
   "execution_count": 14,
   "id": "e8b3f88b",
   "metadata": {},
   "outputs": [],
   "source": [
    "def encode_image(img):\n",
    "  img = preprocess_image(img)\n",
    "  feature_vector = model_resnet.predict(img)\n",
    "  feature_vector = feature_vector.reshape(1, feature_vector.shape[1])\n",
    "  return feature_vector"
   ]
  },
  {
   "cell_type": "code",
   "execution_count": 21,
   "id": "8f624ea4",
   "metadata": {},
   "outputs": [],
   "source": [
    "with open(\"storage/word_to_idx.pkl\", 'rb') as w2i:\n",
    "    word_to_idx = pickle.load(w2i)"
   ]
  },
  {
   "cell_type": "code",
   "execution_count": 22,
   "id": "30d0fb8f",
   "metadata": {},
   "outputs": [],
   "source": [
    "with open(\"storage/idx_to_word.pkl\", 'rb') as i2w:\n",
    "    idx_to_word = pickle.load(i2w)"
   ]
  },
  {
   "cell_type": "code",
   "execution_count": 23,
   "id": "4ac3bf6c",
   "metadata": {},
   "outputs": [],
   "source": [
    "def predict_caption(photo):\n",
    "    in_text = \"startseq\"\n",
    "    max_len = 35\n",
    "    for i in range(max_len):\n",
    "        sequence = [word_to_idx[w] for w in in_text.split() if w in word_to_idx]\n",
    "        sequence = pad_sequences([sequence], maxlen = max_len, padding ='post')\n",
    "        \n",
    "        ypred = model.predict([photo, sequence])\n",
    "        ypred = ypred.argmax()\n",
    "        word = idx_to_word[ypred]\n",
    "        in_text+= ' ' +word\n",
    "        \n",
    "        if word =='endseq':\n",
    "            break\n",
    "        \n",
    "    final_caption = in_text.split()\n",
    "    final_caption = final_caption[1:-1]\n",
    "    final_caption = ' '.join(final_caption)\n",
    "    \n",
    "    return final_caption\n",
    "        "
   ]
  },
  {
   "cell_type": "code",
   "execution_count": 25,
   "id": "f3d8e31d",
   "metadata": {},
   "outputs": [],
   "source": [
    "def caption_this_image(image):\n",
    "    enc = encode_image(image)\n",
    "    caption = predict_caption(enc)\n",
    "    return caption"
   ]
  },
  {
   "cell_type": "code",
   "execution_count": null,
   "id": "14bcb7ed",
   "metadata": {},
   "outputs": [],
   "source": []
  }
 ],
 "metadata": {
  "kernelspec": {
   "display_name": "Python 3",
   "language": "python",
   "name": "python3"
  },
  "language_info": {
   "codemirror_mode": {
    "name": "ipython",
    "version": 3
   },
   "file_extension": ".py",
   "mimetype": "text/x-python",
   "name": "python",
   "nbconvert_exporter": "python",
   "pygments_lexer": "ipython3",
   "version": "3.8.8"
  }
 },
 "nbformat": 4,
 "nbformat_minor": 5
}

{
 "cells": [
  {
   "cell_type": "code",
   "execution_count": 1,
   "id": "c088b5a6",
   "metadata": {},
   "outputs": [],
   "source": [
    "import Caption_it"
   ]
  },
  {
   "cell_type": "code",
   "execution_count": 3,
   "id": "3f4e7bb2",
   "metadata": {},
   "outputs": [
    {
     "data": {
      "text/plain": [
       "'white dog is running on the grass'"
      ]
     },
     "execution_count": 3,
     "metadata": {},
     "output_type": "execute_result"
    }
   ],
   "source": [
    "Caption_it.caption_this_image(\"images.jpg\")"
   ]
  },
  {
   "cell_type": "code",
   "execution_count": 5,
   "id": "74f203fc",
   "metadata": {},
   "outputs": [
    {
     "data": {
      "text/plain": [
       "'woman with long hair and beard and beard and beard and black beard and black hat is standing in front of crowd'"
      ]
     },
     "execution_count": 5,
     "metadata": {},
     "output_type": "execute_result"
    }
   ],
   "source": [
    "Caption_it.caption_this_image(\"boy.jpg\")"
   ]
  },
  {
   "cell_type": "code",
   "execution_count": null,
   "id": "2c21db25",
   "metadata": {},
   "outputs": [],
   "source": []
  }
 ],
 "metadata": {
  "kernelspec": {
   "display_name": "Python 3",
   "language": "python",
   "name": "python3"
  },
  "language_info": {
   "codemirror_mode": {
    "name": "ipython",
    "version": 3
   },
   "file_extension": ".py",
   "mimetype": "text/x-python",
   "name": "python",
   "nbconvert_exporter": "python",
   "pygments_lexer": "ipython3",
   "version": "3.8.8"
  }
 },
 "nbformat": 4,
 "nbformat_minor": 5
}
